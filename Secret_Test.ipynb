{
 "cells": [
  {
   "cell_type": "code",
   "execution_count": null,
   "id": "eefc7bf6-ab55-4237-87b9-2480c4b5c0a4",
   "metadata": {},
   "outputs": [],
   "source": [
    "# Kjøre minst engang om dagen. (identifisering)\n",
    "\n",
    "gcloud auth application-default login"
   ]
  },
  {
   "cell_type": "code",
   "execution_count": null,
   "id": "c20103aa-3f00-43c0-8b49-8a68bbcf025c",
   "metadata": {},
   "outputs": [],
   "source": [
    "# Deretter legge inn secret-manager-pakken\n",
    "\n",
    "pip install google-cloud-secret-manager"
   ]
  },
  {
   "cell_type": "code",
   "execution_count": null,
   "id": "3136124d-80b1-4fd8-a368-033f6bbd00dc",
   "metadata": {},
   "outputs": [],
   "source": [
    "# Import the Secret Manager client library.\n",
    "\n",
    "from google.cloud import secretmanager\n",
    "\n",
    "# GCP project in which to store secrets in Secret Manager.\n",
    "project_id = \"knada-gcp\"\n",
    "\n",
    "# ID of the secret to create.\n",
    "secret_id = \"amit-garg\"\n",
    "\n",
    "# Create the Secret Manager client.\n",
    "client = secretmanager.SecretManagerServiceClient()\n",
    "\n",
    "# Access the secret version.\n",
    "response=client.access_secret_version(name= f'projects/{project_id}/secrets/{secret_id}/versions/latest')\n",
    "payload = response.payload.data.decode(\"UTF-8\")\n",
    "print(\"Plaintext: {}\".format(payload))"
   ]
  },
  {
   "cell_type": "code",
   "execution_count": null,
   "id": "763a1f53-c4dd-48a3-8040-0cd760dba90a",
   "metadata": {},
   "outputs": [],
   "source": []
  }
 ],
 "metadata": {
  "environment": {
   "kernel": "python3",
   "name": "common-cpu.m87",
   "type": "gcloud",
   "uri": "gcr.io/deeplearning-platform-release/base-cpu:m87"
  },
  "kernelspec": {
   "display_name": "Python 3",
   "language": "python",
   "name": "python3"
  },
  "language_info": {
   "codemirror_mode": {
    "name": "ipython",
    "version": 3
   },
   "file_extension": ".py",
   "mimetype": "text/x-python",
   "name": "python",
   "nbconvert_exporter": "python",
   "pygments_lexer": "ipython3",
   "version": "3.7.12"
  }
 },
 "nbformat": 4,
 "nbformat_minor": 5
}
