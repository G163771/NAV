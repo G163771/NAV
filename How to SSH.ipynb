{
 "cells": [
  {
   "cell_type": "markdown",
   "id": "629fbcb0-e575-4f77-9b28-eb9a52754c23",
   "metadata": {},
   "source": [
    "# Guide to connect knada-gcp project via ssh to VSCODE"
   ]
  },
  {
   "cell_type": "markdown",
   "id": "9a3376f7-2cb9-4d86-b798-454f400e9876",
   "metadata": {},
   "source": [
    "### 1. First get necessary approvals from nada team"
   ]
  },
  {
   "cell_type": "markdown",
   "id": "4b431730-dd2f-4265-b6d0-b204ae549049",
   "metadata": {
    "tags": []
   },
   "source": [
    "### 2. Install gcloud-cli on your computer\n",
    ">   Download from here [gcloud-cli sdk](https://cloud.google.com/sdk/docs/install-sdk).\n",
    "\n",
    ">   Follow instructions on the page (to complete full installation)"
   ]
  },
  {
   "cell_type": "markdown",
   "id": "5693901e-558c-40a8-a99c-6fcf8abaa2b1",
   "metadata": {},
   "source": [
    "### 3. Run below command to initialize the gcloud CLI (in local computer terminal)\n",
    "> gcloud init --console-only\n",
    "\n",
    "> Follow instructions to choose projects etc."
   ]
  },
  {
   "cell_type": "markdown",
   "id": "2df61f37-cfdf-49c2-8267-ed447b501474",
   "metadata": {},
   "source": [
    "### 4. If you have not been authenticated in previous run then run command below. (in local computer terminal)\n",
    "> gcloud auth login --update-adc"
   ]
  },
  {
   "cell_type": "markdown",
   "id": "f3092ea1-99a4-4a22-a77b-7a6c7144008d",
   "metadata": {},
   "source": [
    "### 5. Run below command to test you have been connected to VM instance. (replace 'amit' with your notebook name) [in local computer terminal] \n",
    "> gcloud compute ssh amit --project=knada-gcp --zone=europe-west1-b --tunnel-through-iap"
   ]
  },
  {
   "cell_type": "markdown",
   "id": "d9b1243f-3f19-4db7-9db6-a2359f2576ba",
   "metadata": {},
   "source": [
    "### 6. Run below command to get config details to use in vscode (in local computer terminal)\n",
    "> gcloud compute ssh amit --project=knada-gcp --zone=europe-west1-b --tunnel-through-iap --dry-run"
   ]
  },
  {
   "cell_type": "markdown",
   "id": "27a25918-df03-4883-a2e5-2918d7de32f0",
   "metadata": {},
   "source": [
    "### 7. Below is an example of config file (replace with the details you get it in the terminal from step-6)\n",
    "\n",
    "> Read more about SSH config files: https://linux.die.net/man/5/ssh_config\n",
    "\n",
    "                Host gcp-notebook\n",
    "                    HostName compute.6718950255846859242\n",
    "                    IdentityFile ~/.ssh/google_compute_engine\n",
    "                    CheckHostIP no\n",
    "                    HashKnownHosts no\n",
    "                    HostKeyAlias compute.6718950255846859242\n",
    "                    IdentitiesOnly yes\n",
    "                    StrictHostKeyChecking no\n",
    "                    UserKnownHostsFile ~/.ssh/google_compute_known_hosts\n",
    "                    ProxyCommand /usr/local/bin/python3 -S /Users/amit/google-cloud-sdk/lib/gcloud.py compute start-iap-tunnel amit %p --listen-on-stdin --project=knada-gcp --zone=europe-west1-b --verbosity=warning\n",
    "                    ProxyUseFdpass no\n",
    "                    User amit_garg_nav_no"
   ]
  },
  {
   "cell_type": "markdown",
   "id": "9cd4e2a4-d83b-4aa2-a594-1aa606dbc8c8",
   "metadata": {},
   "source": [
    "### 8. Open VSCode download extension:\n",
    "\n",
    "Id: ms-vscode-remote.remote-ssh\n",
    "\n",
    "Publisher: Microsoft\n",
    "\n",
    "[VS Marketplace Link:] https://marketplace.visualstudio.com/items?itemName=ms-vscode-remote.remote-ssh"
   ]
  },
  {
   "cell_type": "markdown",
   "id": "f97a4f53-519b-4c80-9645-4713f75823fb",
   "metadata": {},
   "source": [
    "### 9. After installation you will see green color in the left corner of your VSCode window. If you hover, it shows (Open a remote window)\n",
    "\n",
    "Follow instruction on this website to better understand. (with pics) [VSCode](https://towardsdatascience.com/unleash-the-power-of-visual-studio-code-vscode-on-google-cloud-platform-virtual-machine-f75f78f49aee)"
   ]
  }
 ],
 "metadata": {
  "environment": {
   "kernel": "python3",
   "name": "common-cpu.m87",
   "type": "gcloud",
   "uri": "gcr.io/deeplearning-platform-release/base-cpu:m87"
  },
  "kernelspec": {
   "display_name": "Python 3",
   "language": "python",
   "name": "python3"
  },
  "language_info": {
   "codemirror_mode": {
    "name": "ipython",
    "version": 3
   },
   "file_extension": ".py",
   "mimetype": "text/x-python",
   "name": "python",
   "nbconvert_exporter": "python",
   "pygments_lexer": "ipython3",
   "version": "3.7.12"
  }
 },
 "nbformat": 4,
 "nbformat_minor": 5
}
