{
 "cells": [
  {
   "cell_type": "code",
   "execution_count": 8,
   "metadata": {},
   "outputs": [],
   "source": [
    "import pandas as pd\n",
    "import cx_Oracle as cx\n",
    "import time\n",
    "import os\n",
    "from dataverk_vault import api as vault_api\n",
    "import json"
   ]
  },
  {
   "cell_type": "code",
   "execution_count": 10,
   "metadata": {},
   "outputs": [
    {
     "ename": "RequiredEnvNotSet",
     "evalue": "Required environment variable K8S_SERVICEACCOUNT_PATH env is not set not set",
     "output_type": "error",
     "traceback": [
      "\u001b[0;31m---------------------------------------------------------------------------\u001b[0m",
      "\u001b[0;31mKeyError\u001b[0m                                  Traceback (most recent call last)",
      "File \u001b[0;32m~/Downloads/venv/lib/python3.10/site-packages/dataverk_vault/context/settings.py:24\u001b[0m, in \u001b[0;36mget_token\u001b[0;34m()\u001b[0m\n\u001b[1;32m     <a href='file:///Users/amit/Downloads/venv/lib/python3.10/site-packages/dataverk_vault/context/settings.py?line=22'>23</a>\u001b[0m \u001b[39mtry\u001b[39;00m:\n\u001b[0;32m---> <a href='file:///Users/amit/Downloads/venv/lib/python3.10/site-packages/dataverk_vault/context/settings.py?line=23'>24</a>\u001b[0m     token_path \u001b[39m=\u001b[39m os\u001b[39m.\u001b[39;49menviron[\u001b[39m\"\u001b[39;49m\u001b[39mK8S_SERVICEACCOUNT_PATH\u001b[39;49m\u001b[39m\"\u001b[39;49m]\n\u001b[1;32m     <a href='file:///Users/amit/Downloads/venv/lib/python3.10/site-packages/dataverk_vault/context/settings.py?line=24'>25</a>\u001b[0m \u001b[39mexcept\u001b[39;00m \u001b[39mKeyError\u001b[39;00m:\n",
      "File \u001b[0;32m/Library/Frameworks/Python.framework/Versions/3.10/lib/python3.10/os.py:679\u001b[0m, in \u001b[0;36m_Environ.__getitem__\u001b[0;34m(self, key)\u001b[0m\n\u001b[1;32m    <a href='file:///Library/Frameworks/Python.framework/Versions/3.10/lib/python3.10/os.py?line=676'>677</a>\u001b[0m \u001b[39mexcept\u001b[39;00m \u001b[39mKeyError\u001b[39;00m:\n\u001b[1;32m    <a href='file:///Library/Frameworks/Python.framework/Versions/3.10/lib/python3.10/os.py?line=677'>678</a>\u001b[0m     \u001b[39m# raise KeyError with the original key value\u001b[39;00m\n\u001b[0;32m--> <a href='file:///Library/Frameworks/Python.framework/Versions/3.10/lib/python3.10/os.py?line=678'>679</a>\u001b[0m     \u001b[39mraise\u001b[39;00m \u001b[39mKeyError\u001b[39;00m(key) \u001b[39mfrom\u001b[39;00m \u001b[39mNone\u001b[39m\n\u001b[1;32m    <a href='file:///Library/Frameworks/Python.framework/Versions/3.10/lib/python3.10/os.py?line=679'>680</a>\u001b[0m \u001b[39mreturn\u001b[39;00m \u001b[39mself\u001b[39m\u001b[39m.\u001b[39mdecodevalue(value)\n",
      "\u001b[0;31mKeyError\u001b[0m: 'K8S_SERVICEACCOUNT_PATH'",
      "\nDuring handling of the above exception, another exception occurred:\n",
      "\u001b[0;31mRequiredEnvNotSet\u001b[0m                         Traceback (most recent call last)",
      "\u001b[1;32m/Users/amit/Documents/GitHub/Oracle_Test/onpremtest.ipynb Cell 2'\u001b[0m in \u001b[0;36m<module>\u001b[0;34m\u001b[0m\n\u001b[0;32m----> <a href='vscode-notebook-cell:/Users/amit/Documents/GitHub/Oracle_Test/onpremtest.ipynb#ch0000002?line=0'>1</a>\u001b[0m vault_api\u001b[39m.\u001b[39;49mset_secrets_as_envs()\n\u001b[1;32m      <a href='vscode-notebook-cell:/Users/amit/Documents/GitHub/Oracle_Test/onpremtest.ipynb#ch0000002?line=1'>2</a>\u001b[0m response \u001b[39m=\u001b[39m os\u001b[39m.\u001b[39menviron[\u001b[39m\"\u001b[39m\u001b[39mdvh\u001b[39m\u001b[39m\"\u001b[39m]\n\u001b[1;32m      <a href='vscode-notebook-cell:/Users/amit/Documents/GitHub/Oracle_Test/onpremtest.ipynb#ch0000002?line=2'>3</a>\u001b[0m \u001b[39m# Convert json to dictionary.\u001b[39;00m\n",
      "File \u001b[0;32m~/Downloads/venv/lib/python3.10/site-packages/dataverk_vault/api.py:22\u001b[0m, in \u001b[0;36mset_secrets_as_envs\u001b[0;34m()\u001b[0m\n\u001b[1;32m     <a href='file:///Users/amit/Downloads/venv/lib/python3.10/site-packages/dataverk_vault/api.py?line=16'>17</a>\u001b[0m \u001b[39mdef\u001b[39;00m \u001b[39mset_secrets_as_envs\u001b[39m():\n\u001b[1;32m     <a href='file:///Users/amit/Downloads/venv/lib/python3.10/site-packages/dataverk_vault/api.py?line=17'>18</a>\u001b[0m     \u001b[39m\"\"\" Read secrets from vault and set environment variables\u001b[39;00m\n\u001b[1;32m     <a href='file:///Users/amit/Downloads/venv/lib/python3.10/site-packages/dataverk_vault/api.py?line=18'>19</a>\u001b[0m \n\u001b[1;32m     <a href='file:///Users/amit/Downloads/venv/lib/python3.10/site-packages/dataverk_vault/api.py?line=19'>20</a>\u001b[0m \u001b[39m    :return: None\u001b[39;00m\n\u001b[1;32m     <a href='file:///Users/amit/Downloads/venv/lib/python3.10/site-packages/dataverk_vault/api.py?line=20'>21</a>\u001b[0m \u001b[39m    \"\"\"\u001b[39;00m\n\u001b[0;32m---> <a href='file:///Users/amit/Downloads/venv/lib/python3.10/site-packages/dataverk_vault/api.py?line=21'>22</a>\u001b[0m     secrets \u001b[39m=\u001b[39m read_secrets()\n\u001b[1;32m     <a href='file:///Users/amit/Downloads/venv/lib/python3.10/site-packages/dataverk_vault/api.py?line=22'>23</a>\u001b[0m     os\u001b[39m.\u001b[39menviron\u001b[39m.\u001b[39mupdate(\n\u001b[1;32m     <a href='file:///Users/amit/Downloads/venv/lib/python3.10/site-packages/dataverk_vault/api.py?line=23'>24</a>\u001b[0m         {key: (value \u001b[39mif\u001b[39;00m \u001b[39mnot\u001b[39;00m \u001b[39misinstance\u001b[39m(value, \u001b[39mdict\u001b[39m) \u001b[39melse\u001b[39;00m json\u001b[39m.\u001b[39mdumps(value)) \u001b[39mfor\u001b[39;00m key, value \u001b[39min\u001b[39;00m secrets\u001b[39m.\u001b[39mitems()})\n",
      "File \u001b[0;32m~/Downloads/venv/lib/python3.10/site-packages/dataverk_vault/api.py:12\u001b[0m, in \u001b[0;36mread_secrets\u001b[0;34m()\u001b[0m\n\u001b[1;32m      <a href='file:///Users/amit/Downloads/venv/lib/python3.10/site-packages/dataverk_vault/api.py?line=6'>7</a>\u001b[0m \u001b[39mdef\u001b[39;00m \u001b[39mread_secrets\u001b[39m():\n\u001b[1;32m      <a href='file:///Users/amit/Downloads/venv/lib/python3.10/site-packages/dataverk_vault/api.py?line=7'>8</a>\u001b[0m     \u001b[39m\"\"\" Read secrets from vault\u001b[39;00m\n\u001b[1;32m      <a href='file:///Users/amit/Downloads/venv/lib/python3.10/site-packages/dataverk_vault/api.py?line=8'>9</a>\u001b[0m \n\u001b[1;32m     <a href='file:///Users/amit/Downloads/venv/lib/python3.10/site-packages/dataverk_vault/api.py?line=9'>10</a>\u001b[0m \u001b[39m    :return: dictionary with secrets from vault\u001b[39;00m\n\u001b[1;32m     <a href='file:///Users/amit/Downloads/venv/lib/python3.10/site-packages/dataverk_vault/api.py?line=10'>11</a>\u001b[0m \u001b[39m    \"\"\"\u001b[39;00m\n\u001b[0;32m---> <a href='file:///Users/amit/Downloads/venv/lib/python3.10/site-packages/dataverk_vault/api.py?line=11'>12</a>\u001b[0m     secrets \u001b[39m=\u001b[39m read_environment_settings()\n\u001b[1;32m     <a href='file:///Users/amit/Downloads/venv/lib/python3.10/site-packages/dataverk_vault/api.py?line=12'>13</a>\u001b[0m     \u001b[39mwith\u001b[39;00m VaultConnector(secrets) \u001b[39mas\u001b[39;00m vault_conn:\n\u001b[1;32m     <a href='file:///Users/amit/Downloads/venv/lib/python3.10/site-packages/dataverk_vault/api.py?line=13'>14</a>\u001b[0m         \u001b[39mreturn\u001b[39;00m vault_conn\u001b[39m.\u001b[39mread_secrets()\n",
      "File \u001b[0;32m~/Downloads/venv/lib/python3.10/site-packages/dataverk_vault/context/settings.py:9\u001b[0m, in \u001b[0;36mread_environment_settings\u001b[0;34m()\u001b[0m\n\u001b[1;32m      <a href='file:///Users/amit/Downloads/venv/lib/python3.10/site-packages/dataverk_vault/context/settings.py?line=6'>7</a>\u001b[0m \u001b[39mdef\u001b[39;00m \u001b[39mread_environment_settings\u001b[39m() \u001b[39m-\u001b[39m\u001b[39m>\u001b[39m Mapping:\n\u001b[1;32m      <a href='file:///Users/amit/Downloads/venv/lib/python3.10/site-packages/dataverk_vault/context/settings.py?line=7'>8</a>\u001b[0m     \u001b[39mreturn\u001b[39;00m {\n\u001b[0;32m----> <a href='file:///Users/amit/Downloads/venv/lib/python3.10/site-packages/dataverk_vault/context/settings.py?line=8'>9</a>\u001b[0m         \u001b[39m\"\u001b[39m\u001b[39mtoken\u001b[39m\u001b[39m\"\u001b[39m: get_token(),\n\u001b[1;32m     <a href='file:///Users/amit/Downloads/venv/lib/python3.10/site-packages/dataverk_vault/context/settings.py?line=9'>10</a>\u001b[0m         \u001b[39m\"\u001b[39m\u001b[39mapp_name\u001b[39m\u001b[39m\"\u001b[39m: get_app_name(),\n\u001b[1;32m     <a href='file:///Users/amit/Downloads/venv/lib/python3.10/site-packages/dataverk_vault/context/settings.py?line=10'>11</a>\u001b[0m         \u001b[39m\"\u001b[39m\u001b[39mvault_address\u001b[39m\u001b[39m\"\u001b[39m: get_vault_address(),\n\u001b[1;32m     <a href='file:///Users/amit/Downloads/venv/lib/python3.10/site-packages/dataverk_vault/context/settings.py?line=11'>12</a>\u001b[0m         \u001b[39m\"\u001b[39m\u001b[39mnamespace\u001b[39m\u001b[39m\"\u001b[39m: get_namespace(),\n\u001b[1;32m     <a href='file:///Users/amit/Downloads/venv/lib/python3.10/site-packages/dataverk_vault/context/settings.py?line=12'>13</a>\u001b[0m         \u001b[39m\"\u001b[39m\u001b[39mauth_url\u001b[39m\u001b[39m\"\u001b[39m: get_auth_url(),\n\u001b[1;32m     <a href='file:///Users/amit/Downloads/venv/lib/python3.10/site-packages/dataverk_vault/context/settings.py?line=13'>14</a>\u001b[0m         \u001b[39m\"\u001b[39m\u001b[39msecrets_url\u001b[39m\u001b[39m\"\u001b[39m: get_secrets_url()\n\u001b[1;32m     <a href='file:///Users/amit/Downloads/venv/lib/python3.10/site-packages/dataverk_vault/context/settings.py?line=14'>15</a>\u001b[0m     }\n",
      "File \u001b[0;32m~/Downloads/venv/lib/python3.10/site-packages/dataverk_vault/context/settings.py:26\u001b[0m, in \u001b[0;36mget_token\u001b[0;34m()\u001b[0m\n\u001b[1;32m     <a href='file:///Users/amit/Downloads/venv/lib/python3.10/site-packages/dataverk_vault/context/settings.py?line=23'>24</a>\u001b[0m     token_path \u001b[39m=\u001b[39m os\u001b[39m.\u001b[39menviron[\u001b[39m\"\u001b[39m\u001b[39mK8S_SERVICEACCOUNT_PATH\u001b[39m\u001b[39m\"\u001b[39m]\n\u001b[1;32m     <a href='file:///Users/amit/Downloads/venv/lib/python3.10/site-packages/dataverk_vault/context/settings.py?line=24'>25</a>\u001b[0m \u001b[39mexcept\u001b[39;00m \u001b[39mKeyError\u001b[39;00m:\n\u001b[0;32m---> <a href='file:///Users/amit/Downloads/venv/lib/python3.10/site-packages/dataverk_vault/context/settings.py?line=25'>26</a>\u001b[0m     \u001b[39mraise\u001b[39;00m RequiredEnvNotSet(\u001b[39m\"\u001b[39m\u001b[39mK8S_SERVICEACCOUNT_PATH env is not set\u001b[39m\u001b[39m\"\u001b[39m)\n\u001b[1;32m     <a href='file:///Users/amit/Downloads/venv/lib/python3.10/site-packages/dataverk_vault/context/settings.py?line=26'>27</a>\u001b[0m \u001b[39melse\u001b[39;00m:\n\u001b[1;32m     <a href='file:///Users/amit/Downloads/venv/lib/python3.10/site-packages/dataverk_vault/context/settings.py?line=27'>28</a>\u001b[0m     \u001b[39mwith\u001b[39;00m Path(token_path)\u001b[39m.\u001b[39mjoinpath(\u001b[39m\"\u001b[39m\u001b[39mtoken\u001b[39m\u001b[39m\"\u001b[39m)\u001b[39m.\u001b[39mopen(\u001b[39m\"\u001b[39m\u001b[39mr\u001b[39m\u001b[39m\"\u001b[39m) \u001b[39mas\u001b[39;00m token_file:\n",
      "\u001b[0;31mRequiredEnvNotSet\u001b[0m: Required environment variable K8S_SERVICEACCOUNT_PATH env is not set not set"
     ]
    }
   ],
   "source": [
    "vault_api.set_secrets_as_envs()\n",
    "response = os.environ[\"dvh\"]\n",
    "# Convert json to dictionary.\n",
    "config = json.loads(response)"
   ]
  },
  {
   "cell_type": "code",
   "execution_count": null,
   "metadata": {},
   "outputs": [],
   "source": [
    "try:\n",
    "    con = cx.connect(**config[\"U\"])\n",
    "except:\n",
    "    print(\"Oracle: Unable to connect\")"
   ]
  }
 ],
 "metadata": {
  "interpreter": {
   "hash": "bd7c5d40284e057576eff9bd53d03676ee3a8bdf0403eb40523259e87b8a7d74"
  },
  "kernelspec": {
   "display_name": "Python 3.10.2 ('venv')",
   "language": "python",
   "name": "python3"
  },
  "language_info": {
   "codemirror_mode": {
    "name": "ipython",
    "version": 3
   },
   "file_extension": ".py",
   "mimetype": "text/x-python",
   "name": "python",
   "nbconvert_exporter": "python",
   "pygments_lexer": "ipython3",
   "version": "3.10.2"
  },
  "orig_nbformat": 4
 },
 "nbformat": 4,
 "nbformat_minor": 2
}
