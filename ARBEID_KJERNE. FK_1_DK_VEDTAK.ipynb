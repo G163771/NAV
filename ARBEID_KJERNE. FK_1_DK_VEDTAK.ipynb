{
 "cells": [
  {
   "cell_type": "markdown",
   "metadata": {},
   "source": [
    "#### COLON \"SLETTET_DATO\" SOM ER IKKE I ETL (BARE NULLS) FRA TABELL \"FK_P.ARENA_FK_VEDTAK\""
   ]
  },
  {
   "cell_type": "markdown",
   "metadata": {},
   "source": [
    "\"\"\"\n",
    "SELECT SLETTET_DATO FROM FK_P.ARENA_FK_VEDTAK WHERE SLETTET_DATO IS NOT NULL\n",
    "\"\"\""
   ]
  },
  {
   "cell_type": "markdown",
   "metadata": {},
   "source": [
    "### SOURCE: FK_P.ARENA_FK_VEDTAK\n",
    "### TARGET: DK_P.VEDTAK\n",
    "#### Denne mappingen laster data fra forkammer tabellen ARENA_FK_VEDTAK. Mappingen laster alle rader som ligg i forkammeret, men oppdaterer eller setter inn kun rader som er endra eller nye.\n",
    "#### Parameter: $PMSourceFileDir\\PARAMETER\\3_1_FK_DK_NAV\\FK_1_DK_VEDTAK.PRM\n",
    "#### Granularitet: En rad per vedtaksid og gyldighetsintervall.\n",
    "#### Versjonering: Nei."
   ]
  },
  {
   "cell_type": "markdown",
   "metadata": {},
   "source": []
  },
  {
   "cell_type": "code",
   "execution_count": 1,
   "metadata": {},
   "outputs": [
    {
     "name": "stdout",
     "output_type": "stream",
     "text": [
      "# packages in environment at /opt/conda:\n",
      "#\n",
      "# Name                    Version                   Build  Channel\n",
      "ipython                   7.30.1           py39hf3d152e_0    conda-forge\n",
      "ipython_genutils          0.2.0                      py_1    conda-forge\n"
     ]
    }
   ],
   "source": [
    "!conda list ipython"
   ]
  }
 ],
 "metadata": {
  "kernelspec": {
   "display_name": "Python 3 (ipykernel)",
   "language": "python",
   "name": "python3"
  },
  "language_info": {
   "codemirror_mode": {
    "name": "ipython",
    "version": 3
   },
   "file_extension": ".py",
   "mimetype": "text/x-python",
   "name": "python",
   "nbconvert_exporter": "python",
   "pygments_lexer": "ipython3",
   "version": "3.9.7"
  },
  "orig_nbformat": 4
 },
 "nbformat": 4,
 "nbformat_minor": 2
}
