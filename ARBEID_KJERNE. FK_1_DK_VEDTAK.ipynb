{
 "cells": [
  {
   "cell_type": "markdown",
   "metadata": {},
   "source": [
    "#### COLON \"SLETTET_DATO\" SOM ER IKKE I ETL (BARE NULLS) FRA TABELL \"FK_P.ARENA_FK_VEDTAK\""
   ]
  },
  {
   "cell_type": "markdown",
   "metadata": {},
   "source": [
    "\"\"\"\n",
    "SELECT SLETTET_DATO FROM FK_P.ARENA_FK_VEDTAK WHERE SLETTET_DATO IS NOT NULL\n",
    "\"\"\""
   ]
  },
  {
   "cell_type": "markdown",
   "metadata": {},
   "source": [
    "### SOURCE: FK_P.ARENA_FK_VEDTAK\n",
    "### TARGET: DK_P.VEDTAK\n",
    "#### Denne mappingen laster data fra forkammer tabellen ARENA_FK_VEDTAK. Mappingen laster alle rader som ligg i forkammeret, men oppdaterer eller setter inn kun rader som er endra eller nye.\n",
    "#### Parameter: $PMSourceFileDir\\PARAMETER\\3_1_FK_DK_NAV\\FK_1_DK_VEDTAK.PRM\n",
    "#### Granularitet: En rad per vedtaksid og gyldighetsintervall.\n",
    "#### Versjonering: Nei."
   ]
  },
  {
   "cell_type": "markdown",
   "metadata": {},
   "source": []
  }
 ],
 "metadata": {
  "language_info": {
   "name": "python"
  },
  "orig_nbformat": 4
 },
 "nbformat": 4,
 "nbformat_minor": 2
}
