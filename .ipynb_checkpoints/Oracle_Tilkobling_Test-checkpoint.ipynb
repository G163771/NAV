{
 "cells": [
  {
   "cell_type": "markdown",
   "id": "34799757-3196-47fe-88dc-c10507255710",
   "metadata": {},
   "source": [
    "## Testing Oracle Connection From GCP Notebook\n",
    "    * Using Secret Manager"
   ]
  },
  {
   "cell_type": "code",
   "execution_count": null,
   "id": "3073b70e-d291-4f79-9b09-f1c14ef19299",
   "metadata": {},
   "outputs": [],
   "source": [
    "pip install cx_Oracle"
   ]
  },
  {
   "cell_type": "code",
   "execution_count": 3,
   "id": "054e4e9c-19ee-48d1-90b2-fa026e8e39a6",
   "metadata": {},
   "outputs": [],
   "source": [
    "import json\n",
    "import pandas as pd\n",
    "import cx_Oracle as cx\n",
    "\n",
    "# Import the Secret Manager client library.\n",
    "from google.cloud import secretmanager\n",
    "\n",
    "# GCP project in which to store secrets in Secret Manager.\n",
    "project_id = \"knada-gcp\"\n",
    "\n",
    "# ID of the secret to create.\n",
    "secret_id = \"amit-garg\"\n",
    "\n",
    "# Create the Secret Manager client.\n",
    "client = secretmanager.SecretManagerServiceClient()\n",
    "\n",
    "# Access the secret version.\n",
    "response=client.access_secret_version(name= f'projects/{project_id}/secrets/{secret_id}/versions/latest')\n",
    "payload = response.payload.data.decode(\"UTF-8\")\n",
    "\n",
    "#print(\"Plaintext: {}\".format(payload))\n",
    "\n",
    "# Convert json to dictionary.\n",
    "config = json.loads(payload)"
   ]
  },
  {
   "cell_type": "markdown",
   "id": "63b3fa68-b8bb-4a08-8605-4ff7ed826fbd",
   "metadata": {},
   "source": [
    "## Connect with Oracle database."
   ]
  },
  {
   "cell_type": "code",
   "execution_count": 4,
   "id": "a7a0a316-13ba-4d8c-8940-51d6235371b7",
   "metadata": {},
   "outputs": [],
   "source": [
    "try:\n",
    "    con = cx.connect(**config['U'])\n",
    "except:\n",
    "    print('Oracle: Unable to connect')"
   ]
  },
  {
   "cell_type": "markdown",
   "id": "3c76a2f4-00db-4f2e-ac98-8bb2b1b92db8",
   "metadata": {},
   "source": [
    "## Test an sql query."
   ]
  },
  {
   "cell_type": "code",
   "execution_count": 5,
   "id": "0ec9883c-b412-4ae5-8d22-fd84f2986faf",
   "metadata": {},
   "outputs": [
    {
     "name": "stdout",
     "output_type": "stream",
     "text": [
      "CPU times: user 933 µs, sys: 4.21 ms, total: 5.14 ms\n",
      "Wall time: 108 ms\n"
     ]
    },
    {
     "data": {
      "text/html": [
       "<div>\n",
       "<style scoped>\n",
       "    .dataframe tbody tr th:only-of-type {\n",
       "        vertical-align: middle;\n",
       "    }\n",
       "\n",
       "    .dataframe tbody tr th {\n",
       "        vertical-align: top;\n",
       "    }\n",
       "\n",
       "    .dataframe thead th {\n",
       "        text-align: right;\n",
       "    }\n",
       "</style>\n",
       "<table border=\"1\" class=\"dataframe\">\n",
       "  <thead>\n",
       "    <tr style=\"text-align: right;\">\n",
       "      <th></th>\n",
       "      <th>COUNT(*)</th>\n",
       "    </tr>\n",
       "  </thead>\n",
       "  <tbody>\n",
       "    <tr>\n",
       "      <th>0</th>\n",
       "      <td>121235465</td>\n",
       "    </tr>\n",
       "  </tbody>\n",
       "</table>\n",
       "</div>"
      ],
      "text/plain": [
       "    COUNT(*)\n",
       "0  121235465"
      ]
     },
     "execution_count": 5,
     "metadata": {},
     "output_type": "execute_result"
    }
   ],
   "source": [
    "%%time\n",
    "pd.read_sql(\"SELECT count(*)FROM DK_P.POSTERING\", con)"
   ]
  },
  {
   "cell_type": "markdown",
   "id": "3311f338-823b-4d1e-850d-236a2de8286e",
   "metadata": {},
   "source": [
    "## Close database connection (if done.)"
   ]
  },
  {
   "cell_type": "code",
   "execution_count": 6,
   "id": "cd9a005c-01e5-423e-a270-9b96058718ae",
   "metadata": {},
   "outputs": [],
   "source": [
    "if con:\n",
    "    con.close()"
   ]
  },
  {
   "cell_type": "markdown",
   "id": "258c9034-2dfd-4e3f-a243-e4ea8dbc110c",
   "metadata": {},
   "source": [
    "## Large query which does not perform on KNADA-GCP"
   ]
  },
  {
   "cell_type": "code",
   "execution_count": null,
   "id": "4ee7cec8-3cac-4346-ab9e-739286d3ff34",
   "metadata": {},
   "outputs": [],
   "source": [
    "pd.read_sql(\"SELECT AAR FROM DT_P.FAK_STONAD WHERE AAR = 2021\", con)"
   ]
  }
 ],
 "metadata": {
  "environment": {
   "kernel": "python3",
   "name": "common-cpu.m87",
   "type": "gcloud",
   "uri": "gcr.io/deeplearning-platform-release/base-cpu:m87"
  },
  "kernelspec": {
   "display_name": "Python 3",
   "language": "python",
   "name": "python3"
  },
  "language_info": {
   "codemirror_mode": {
    "name": "ipython",
    "version": 3
   },
   "file_extension": ".py",
   "mimetype": "text/x-python",
   "name": "python",
   "nbconvert_exporter": "python",
   "pygments_lexer": "ipython3",
   "version": "3.7.12"
  }
 },
 "nbformat": 4,
 "nbformat_minor": 5
}
