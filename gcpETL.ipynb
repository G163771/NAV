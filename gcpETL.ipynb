{
 "cells": [
  {
   "cell_type": "code",
   "execution_count": null,
   "id": "c10586fa-4817-4c0f-8f56-4887f38fc744",
   "metadata": {},
   "outputs": [],
   "source": [
    "# Kjøre minst engang om dagen. (identifisering)\n",
    "gcloud auth application-default login\n",
    "gcloud auth login --update-adc"
   ]
  },
  {
   "cell_type": "code",
   "execution_count": 1,
   "id": "4c41cf9c-f3e5-4193-b852-725779b31223",
   "metadata": {},
   "outputs": [
    {
     "name": "stdout",
     "output_type": "stream",
     "text": [
      "Total runtime of the program is 995.3358783721924\n"
     ]
    }
   ],
   "source": [
    "import json\n",
    "import pandas as pd\n",
    "import cx_Oracle as cx\n",
    "import time\n",
    "\n",
    "\n",
    "# Import the Secret Manager client library.\n",
    "from google.cloud import secretmanager\n",
    "from sqlalchemy import false\n",
    "\n",
    "# GCP project in which to store secrets in Secret Manager.\n",
    "project_id = \"knada-gcp\"\n",
    "\n",
    "# ID of the secret to create.\n",
    "secret_id = \"amit-garg\"\n",
    "\n",
    "# Create the Secret Manager client.\n",
    "client = secretmanager.SecretManagerServiceClient()\n",
    "\n",
    "# Access the secret version.\n",
    "response = client.access_secret_version(\n",
    "    name=f\"projects/{project_id}/secrets/{secret_id}/versions/latest\"\n",
    ")\n",
    "payload = response.payload.data.decode(\"UTF-8\")\n",
    "\n",
    "# print(\"Plaintext: {}\".format(payload))\n",
    "\n",
    "# Convert json to dictionary.\n",
    "config = json.loads(payload)\n",
    "\n",
    "# Connect with Oracle database\n",
    "try:\n",
    "    con = cx.connect(**config[\"U\"])\n",
    "except:\n",
    "    print(\"Oracle: Unable to connect\")\n",
    "\n",
    "\n",
    "# store starting time\n",
    "begin = time.time()\n",
    "\n",
    "# Getting data from DT_P.FAK_STONAD_MOTTAKER.FK_DIM_TID_MND december 2021\n",
    "df = pd.read_sql(\n",
    "    \"SELECT FK_DIM_ALDER,FK_DIM_KJONN, FK_DIM_F_STONAD_OMRAADE, FK_DIM_SERVICE_GRUPPE, FK_DIM_ARBEIDSSOKERSTAT_AINFO, FK_DIM_HOVEDMAAL, FK_DIM_TID_MND, FK_DIM_ORGANISASJON, FK_DIM_GEOGRAFI_BOSTED, FK_DIM_VARIGHET_MOTTAKER, FK_DIM_OVERGANG_TILFELLE, FK_DIM_VERSJON, RETTIGHET_TILGANG_FLAGG, RETTIGHET_BEHOLDNING_FLAGG, RETTIGHET_AVGANG_FLAGG, MOTTAKER_TILGANG_FLAGG, MOTTAKER_FLAGG, MOTTAKER_AVGANG_FLAGG, GJENNOMFORT_AEV_FLAGG, VEDTAK_14A_FLAGG, AKTUELL_FOR_TILTAK_FLAGG, DELTAKER_TILTAK_FLAGG, GODKJENT_PLAN_FLAGG, VEDTAK_UFORE_FLAGG, VEDTAK_UFORE_AEV_FLAGG, AKT_TILT_DELTAR_TILT_FLAGG, FRA_14A_TIL_GODKJ_PLAN, FRA_GODKJ_PLAN_TIL_TILTAK, VARIGHET_MNDR_ANTALL, GYLDIG_FRA_DATO, GYLDIG_TIL_DATO, LASTET_DATO, KILDESYSTEM FROM DT_P.FAK_STONAD_MOTTAKER WHERE TO_NUMBER(SUBSTR(DT_P.FAK_STONAD_MOTTAKER.FK_DIM_TID_MND, 1, 6))= 202112\",\n",
    "    con,\n",
    ")\n",
    "\n",
    "# store end time\n",
    "end = time.time()\n",
    "# total time taken 16.52\n",
    "\n",
    "print(f\"Total runtime of the program is {end - begin}\")\n",
    "\n",
    "if con:\n",
    "    con.close()"
   ]
  },
  {
   "cell_type": "code",
   "execution_count": null,
   "id": "29ab236f-c800-46a7-9c32-db21f85a3df8",
   "metadata": {},
   "outputs": [],
   "source": []
  }
 ],
 "metadata": {
  "environment": {
   "kernel": "python3",
   "name": "common-cpu.m90",
   "type": "gcloud",
   "uri": "gcr.io/deeplearning-platform-release/base-cpu:m90"
  },
  "kernelspec": {
   "display_name": "Python 3",
   "language": "python",
   "name": "python3"
  },
  "language_info": {
   "codemirror_mode": {
    "name": "ipython",
    "version": 3
   },
   "file_extension": ".py",
   "mimetype": "text/x-python",
   "name": "python",
   "nbconvert_exporter": "python",
   "pygments_lexer": "ipython3",
   "version": "3.7.12"
  }
 },
 "nbformat": 4,
 "nbformat_minor": 5
}
