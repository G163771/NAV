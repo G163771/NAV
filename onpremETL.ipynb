{
 "cells": [
  {
   "cell_type": "code",
   "execution_count": 2,
   "metadata": {},
   "outputs": [
    {
     "name": "stdout",
     "output_type": "stream",
     "text": [
      "Total runtime of the program is 35.94791293144226\n"
     ]
    }
   ],
   "source": [
    "import pandas as pd\n",
    "import cx_Oracle as cx_Oracle\n",
    "import time\n",
    "import os\n",
    "import json\n",
    "from dataverk_vault import api as vault_api\n",
    "\n",
    "vault_api.set_secrets_as_envs()\n",
    "response = os.environ[\"dvh\"]\n",
    "config = json.loads(response)\n",
    "\n",
    "try:\n",
    "    con = cx_Oracle.connect(**config[\"U\"])\n",
    "except:\n",
    "    print(\"Oracle: Unable to connect\")\n",
    "\n",
    "# store starting time\n",
    "begin = time.time()\n",
    "\n",
    "# Getting data from DT_P.FAK_STONAD_MOTTAKER.FK_DIM_TID_MND december 2021\n",
    "df = pd.read_sql(\n",
    "    \"SELECT FK_DIM_ALDER,FK_DIM_KJONN, FK_DIM_F_STONAD_OMRAADE, FK_DIM_SERVICE_GRUPPE, FK_DIM_ARBEIDSSOKERSTAT_AINFO, FK_DIM_HOVEDMAAL, FK_DIM_TID_MND, FK_DIM_ORGANISASJON, FK_DIM_GEOGRAFI_BOSTED, FK_DIM_VARIGHET_MOTTAKER, FK_DIM_OVERGANG_TILFELLE, FK_DIM_VERSJON, RETTIGHET_TILGANG_FLAGG, RETTIGHET_BEHOLDNING_FLAGG, RETTIGHET_AVGANG_FLAGG, MOTTAKER_TILGANG_FLAGG, MOTTAKER_FLAGG, MOTTAKER_AVGANG_FLAGG, GJENNOMFORT_AEV_FLAGG, VEDTAK_14A_FLAGG, AKTUELL_FOR_TILTAK_FLAGG, DELTAKER_TILTAK_FLAGG, GODKJENT_PLAN_FLAGG, VEDTAK_UFORE_FLAGG, VEDTAK_UFORE_AEV_FLAGG, AKT_TILT_DELTAR_TILT_FLAGG, FRA_14A_TIL_GODKJ_PLAN, FRA_GODKJ_PLAN_TIL_TILTAK, VARIGHET_MNDR_ANTALL, GYLDIG_FRA_DATO, GYLDIG_TIL_DATO, LASTET_DATO, KILDESYSTEM FROM DT_P.FAK_STONAD_MOTTAKER WHERE TO_NUMBER(SUBSTR(DT_P.FAK_STONAD_MOTTAKER.FK_DIM_TID_MND, 1, 6))= 202112\",\n",
    "    con,\n",
    ")\n",
    "\n",
    "# store end time\n",
    "end = time.time()\n",
    "\n",
    "print(f\"Total runtime of the program is {end - begin}\")\n",
    "\n",
    "if con:\n",
    "    con.close()"
   ]
  }
 ],
 "metadata": {
  "kernelspec": {
   "display_name": "Python 3 (ipykernel)",
   "language": "python",
   "name": "python3"
  },
  "language_info": {
   "codemirror_mode": {
    "name": "ipython",
    "version": 3
   },
   "file_extension": ".py",
   "mimetype": "text/x-python",
   "name": "python",
   "nbconvert_exporter": "python",
   "pygments_lexer": "ipython3",
   "version": "3.9.7"
  },
  "orig_nbformat": 4
 },
 "nbformat": 4,
 "nbformat_minor": 2
}
